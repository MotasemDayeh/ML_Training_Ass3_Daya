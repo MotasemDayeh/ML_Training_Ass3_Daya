{
  "nbformat": 4,
  "nbformat_minor": 0,
  "metadata": {
    "colab": {
      "provenance": []
    },
    "kernelspec": {
      "name": "python3",
      "display_name": "Python 3"
    },
    "language_info": {
      "name": "python"
    }
  },
  "cells": [
    {
      "cell_type": "code",
      "execution_count": 1,
      "metadata": {
        "id": "5rvAPJQlh0ts"
      },
      "outputs": [],
      "source": [
        "import pandas as pd\n",
        "from sklearn.tree import DecisionTreeRegressor, DecisionTreeClassifier\n",
        "from sklearn.model_selection import train_test_split\n",
        "from sklearn.metrics import mean_absolute_error, accuracy_score\n"
      ]
    },
    {
      "cell_type": "markdown",
      "source": [
        "Exercise 1: Real Estate Prices"
      ],
      "metadata": {
        "id": "fUXx-r1YiB2u"
      }
    },
    {
      "cell_type": "code",
      "source": [
        "# Create DataFrame\n",
        "data_real_estate = pd.DataFrame({\n",
        "    'Size': [1200, 1500, 800, 1000, 2000],\n",
        "    'Bedrooms': [3, 4, 2, 2, 5],\n",
        "    'Age': [10, 5, 20, 15, 8],\n",
        "    'Distance': [5, 3, 10, 8, 2],\n",
        "    'Price': [250000, 320000, 180000, 210000, 450000]\n",
        "})\n",
        "\n",
        "# Define features and target\n",
        "X = data_real_estate.drop(columns=['Price'])\n",
        "y = data_real_estate['Price']\n",
        "\n",
        "# Train Decision Tree Regressor\n",
        "model = DecisionTreeRegressor()\n",
        "model.fit(X, y)\n",
        "\n",
        "# Predict new value\n",
        "new_house = pd.DataFrame({'Size': [1400], 'Bedrooms': [3], 'Age': [12], 'Distance': [6]})\n",
        "predicted_price = model.predict(new_house)\n",
        "\n",
        "print(\"Predicted House Price:\", predicted_price[0])\n"
      ],
      "metadata": {
        "colab": {
          "base_uri": "https://localhost:8080/"
        },
        "id": "LDcfS71-iCTy",
        "outputId": "e5019a35-48df-4ea9-b571-9b8e85c33104"
      },
      "execution_count": 2,
      "outputs": [
        {
          "output_type": "stream",
          "name": "stdout",
          "text": [
            "Predicted House Price: 250000.0\n"
          ]
        }
      ]
    },
    {
      "cell_type": "markdown",
      "source": [
        "Exercise 2: Medical Diagnosis"
      ],
      "metadata": {
        "id": "TmYra1CciGOA"
      }
    },
    {
      "cell_type": "code",
      "source": [
        "# Create DataFrame\n",
        "data_medical = pd.DataFrame({\n",
        "    'Age': [50, 40, 45, 35, 60],\n",
        "    'BMI': [30, 25, 28, 22, 35],\n",
        "    'BloodPressure': [140, 130, 150, 120, 160],\n",
        "    'Glucose': [180, 160, 170, 140, 200],\n",
        "    'Diabetic': ['Yes', 'No', 'Yes', 'No', 'Yes']\n",
        "})\n",
        "\n",
        "# Define features and target\n",
        "X = data_medical.drop(columns=['Diabetic'])\n",
        "y = data_medical['Diabetic']\n",
        "\n",
        "# Train Decision Tree Classifier\n",
        "model = DecisionTreeClassifier()\n",
        "model.fit(X, y)\n",
        "\n",
        "# Predict new value\n",
        "new_patient = pd.DataFrame({'Age': [55], 'BMI': [29], 'BloodPressure': [145], 'Glucose': [190]})\n",
        "predicted_diabetes = model.predict(new_patient)\n",
        "\n",
        "print(\"Diabetes Prediction:\", predicted_diabetes[0])\n"
      ],
      "metadata": {
        "colab": {
          "base_uri": "https://localhost:8080/"
        },
        "id": "_Yu2uOX6iJSk",
        "outputId": "a94a7633-ac54-410d-a57b-9e30c5bde54f"
      },
      "execution_count": 3,
      "outputs": [
        {
          "output_type": "stream",
          "name": "stdout",
          "text": [
            "Diabetes Prediction: Yes\n"
          ]
        }
      ]
    },
    {
      "cell_type": "markdown",
      "source": [
        "Exercise 3: Student Grades"
      ],
      "metadata": {
        "id": "3ppAj205iMtI"
      }
    },
    {
      "cell_type": "code",
      "source": [
        "# Create DataFrame\n",
        "data_students = pd.DataFrame({\n",
        "    'QuizAvg': [85, 70, 95, 60, 80],\n",
        "    'HomeworkAvg': [90, 65, 85, 70, 75],\n",
        "    'Attendance': [95, 75, 100, 80, 85],\n",
        "    'HoursStudied': [8, 4, 10, 5, 7],\n",
        "    'FinalGrade': [88, 65, 92, 70, 80]\n",
        "})\n",
        "\n",
        "# Define features and target\n",
        "X = data_students.drop(columns=['FinalGrade'])\n",
        "y = data_students['FinalGrade']\n",
        "\n",
        "# Train Decision Tree Regressor\n",
        "model = DecisionTreeRegressor()\n",
        "model.fit(X, y)\n",
        "\n",
        "# Predict new value\n",
        "new_student = pd.DataFrame({'QuizAvg': [75], 'HomeworkAvg': [80], 'Attendance': [90], 'HoursStudied': [6]})\n",
        "predicted_grade = model.predict(new_student)\n",
        "\n",
        "print(\"Predicted Final Grade:\", predicted_grade[0])\n"
      ],
      "metadata": {
        "colab": {
          "base_uri": "https://localhost:8080/"
        },
        "id": "GcQcMh1bioRB",
        "outputId": "606765be-23c0-4d61-ceee-cbf79e2e8bb1"
      },
      "execution_count": 4,
      "outputs": [
        {
          "output_type": "stream",
          "name": "stdout",
          "text": [
            "Predicted Final Grade: 70.0\n"
          ]
        }
      ]
    },
    {
      "cell_type": "markdown",
      "source": [
        "Exercise 4: Employee Retention"
      ],
      "metadata": {
        "id": "r5Yv8alUjByC"
      }
    },
    {
      "cell_type": "code",
      "source": [
        "# Create DataFrame\n",
        "data_employees = pd.DataFrame({\n",
        "    'YearsAtCompany': [2, 5, 3, 8, 1],\n",
        "    'Salary': [40000, 60000, 45000, 75000, 30000],\n",
        "    'JobSatisfaction': [6, 8, 5, 9, 4],\n",
        "    'RemoteWork': [0, 1, 0, 1, 0],  # Encode Yes=1, No=0\n",
        "    'Stayed': ['No', 'Yes', 'No', 'Yes', 'No']\n",
        "})\n",
        "\n",
        "# Define features and target\n",
        "X = data_employees.drop(columns=['Stayed'])\n",
        "y = data_employees['Stayed']\n",
        "\n",
        "# Train Decision Tree Classifier\n",
        "model = DecisionTreeClassifier()\n",
        "model.fit(X, y)\n",
        "\n",
        "# Predict new value\n",
        "new_employee = pd.DataFrame({'YearsAtCompany': [4], 'Salary': [50000], 'JobSatisfaction': [7], 'RemoteWork': [1]})\n",
        "predicted_retention = model.predict(new_employee)\n",
        "\n",
        "print(\"Employee Retention Prediction:\", predicted_retention[0])\n"
      ],
      "metadata": {
        "colab": {
          "base_uri": "https://localhost:8080/"
        },
        "id": "32sCZTzjjDbW",
        "outputId": "0ab8be66-9417-472e-8508-64676d5f4a5d"
      },
      "execution_count": 5,
      "outputs": [
        {
          "output_type": "stream",
          "name": "stdout",
          "text": [
            "Employee Retention Prediction: No\n"
          ]
        }
      ]
    },
    {
      "cell_type": "markdown",
      "source": [
        "Exercise 5: Product Purchase"
      ],
      "metadata": {
        "id": "ekXVOcAcjGPS"
      }
    },
    {
      "cell_type": "code",
      "source": [
        "# Create DataFrame\n",
        "data_purchase = pd.DataFrame({\n",
        "    'TimeOnWebsite': [20, 35, 25, 15, 30],\n",
        "    'PagesVisited': [3, 7, 5, 2, 6],\n",
        "    'ClicksOnAds': [1, 4, 3, 1, 5],\n",
        "    'SubscribedToNewsletter': [0, 1, 0, 0, 1],  # Encode Yes=1, No=0\n",
        "    'Purchase': ['No', 'Yes', 'Yes', 'No', 'Yes']\n",
        "})\n",
        "\n",
        "# Define features and target\n",
        "X = data_purchase.drop(columns=['Purchase'])\n",
        "y = data_purchase['Purchase']\n",
        "\n",
        "# Train Decision Tree Classifier\n",
        "model = DecisionTreeClassifier()\n",
        "model.fit(X, y)\n",
        "\n",
        "# Predict new value\n",
        "new_user = pd.DataFrame({'TimeOnWebsite': [28], 'PagesVisited': [4], 'ClicksOnAds': [2], 'SubscribedToNewsletter': [0]})\n",
        "predicted_purchase = model.predict(new_user)\n",
        "\n",
        "print(\"Purchase Prediction:\", predicted_purchase[0])\n"
      ],
      "metadata": {
        "colab": {
          "base_uri": "https://localhost:8080/"
        },
        "id": "n4lU6ZzJjIbg",
        "outputId": "150a4e64-a6e2-4413-a9d4-9feb44528c9a"
      },
      "execution_count": 6,
      "outputs": [
        {
          "output_type": "stream",
          "name": "stdout",
          "text": [
            "Purchase Prediction: No\n"
          ]
        }
      ]
    }
  ]
}